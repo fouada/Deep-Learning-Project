{
  "cells": [
    {
      "cell_type": "markdown",
      "metadata": {},
      "source": [
        "# Pneumonia Classification with Vision Transformer (ViT)\n",
        "\n",
        "This notebook fine-tunes a Vision Transformer to classify chest X-ray images (NORMAL vs. PNEUMONIA) using the Kaggle dataset.\n",
        "\n",
        "**What you'll get here**\n",
        "- A *clean, step-by-step* pipeline mirroring the structure you used for CNN.\n",
        "- Two ways to load ViT:\n",
        "  1) **PyTorch native** pretrained models (timm/torchvision).\n",
        "  2) **Google JAX `.npz`** checkpoints (download + conversion through `timm`).  \n",
        "- The same *recall-first* threshold tuning you used with the CNN (to prioritize catching sick patients).\n",
        "- Plots, metrics, and saved artifacts.\n",
        "\n",
        "> Tip: if you're offline, the notebook will still run — it will just fall back to random init if weights can't be downloaded.\n"
      ]
    },
    {
      "cell_type": "markdown",
      "metadata": {},
      "source": [
        "## 0) Setup and dependency checks\n",
        "Purpose: ensure required libraries are available and detect the best device (CUDA/MPS/CPU).  \n",
        "- Tries to import `timm`. If missing, attempts a silent `pip install timm`.  \n",
        "- Sets the `DEVICE`.  \n",
        "- Prints versions for reproducibility.\n"
      ]
    },
    {
      "cell_type": "code",
      "execution_count": 9,
      "metadata": {},
      "outputs": [
        {
          "name": "stdout",
          "output_type": "stream",
          "text": [
            "Installing timm ...\n"
          ]
        },
        {
          "name": "stderr",
          "output_type": "stream",
          "text": [
            "\n",
            "\u001b[1m[\u001b[0m\u001b[34;49mnotice\u001b[0m\u001b[1;39;49m]\u001b[0m\u001b[39;49m A new release of pip is available: \u001b[0m\u001b[31;49m25.1.1\u001b[0m\u001b[39;49m -> \u001b[0m\u001b[32;49m25.2\u001b[0m\n",
            "\u001b[1m[\u001b[0m\u001b[34;49mnotice\u001b[0m\u001b[1;39;49m]\u001b[0m\u001b[39;49m To update, run: \u001b[0m\u001b[32;49mpip install --upgrade pip\u001b[0m\n",
            "/Users/fouadaz/LearningFromUniversity/Learning/DeepLearning/DeepLearning_2025/FinalProject/Deep_Learning_Assignments/Final_Project/myfinalproject/lib/python3.13/site-packages/tqdm/auto.py:21: TqdmWarning: IProgress not found. Please update jupyter and ipywidgets. See https://ipywidgets.readthedocs.io/en/stable/user_install.html\n",
            "  from .autonotebook import tqdm as notebook_tqdm\n"
          ]
        },
        {
          "name": "stdout",
          "output_type": "stream",
          "text": [
            "Device: mps\n",
            "torch: 2.8.0 | torchvision: 0.23.0\n",
            "matplotlib: 3.10.5 | sklearn: 1.7.1\n",
            "timm: 1.0.19\n"
          ]
        }
      ],
      "source": [
        "\n",
        "# Silent/forgiving install of optional deps (timm) if missing\n",
        "import sys, subprocess, importlib\n",
        "\n",
        "def try_import_or_pip(pkg, pip_name=None):\n",
        "    try:\n",
        "        return importlib.import_module(pkg)\n",
        "    except Exception:\n",
        "        try:\n",
        "            name = pip_name or pkg\n",
        "            print(f\"Installing {name} ...\")\n",
        "            subprocess.run([sys.executable, \"-m\", \"pip\", \"install\", \"-q\", name], check=False)\n",
        "            return importlib.import_module(pkg)\n",
        "        except Exception as e:\n",
        "            print(f\"Could not import or install {pkg}: {e}\")\n",
        "            return None\n",
        "\n",
        "timm = try_import_or_pip(\"timm\")\n",
        "\n",
        "import torch, torchvision, sklearn, numpy as np, matplotlib, matplotlib.pyplot as plt\n",
        "from pathlib import Path\n",
        "\n",
        "# Pick best device\n",
        "if torch.cuda.is_available():\n",
        "    DEVICE = torch.device(\"cuda\")\n",
        "elif hasattr(torch.backends, \"mps\") and torch.backends.mps.is_available():\n",
        "    DEVICE = torch.device(\"mps\")\n",
        "else:\n",
        "    DEVICE = torch.device(\"cpu\")\n",
        "\n",
        "print(\"Device:\", DEVICE)\n",
        "print(\"torch:\", torch.__version__, \"| torchvision:\", torchvision.__version__)\n",
        "print(\"matplotlib:\", matplotlib.__version__, \"| sklearn:\", sklearn.__version__)\n",
        "print(\"timm:\", getattr(timm, \"__version__\", None))\n"
      ]
    },
    {
      "cell_type": "markdown",
      "metadata": {},
      "source": [
        "## 1) Dataset location & sanity check\n",
        "Purpose: locate the Kaggle dataset on disk.  \n",
        "- Expected structure: `.../chest_xray/{train,val,test}/{NORMAL,PNEUMONIA}`  \n",
        "- We try common roots (your earlier CNN used `Final_Project/Data/chest_xray`).  \n",
        "- If not found, we guide you to download with Kaggle CLI, or place the folder manually.\n"
      ]
    },
    {
      "cell_type": "code",
      "execution_count": 10,
      "metadata": {},
      "outputs": [
        {
          "name": "stdout",
          "output_type": "stream",
          "text": [
            "Using dataset dir: /Users/fouadaz/LearningFromUniversity/Learning/DeepLearning/DeepLearning_2025/FinalProject/Deep_Learning_Assignments/Final_Project/Data/chest_xray\n"
          ]
        }
      ],
      "source": [
        "\n",
        "import os, shutil, subprocess\n",
        "from pathlib import Path\n",
        "\n",
        "# Try a few common locations; fall back to a default relative path\n",
        "CANDIDATES = [\n",
        "    Path.cwd() / \"Data\" / \"chest_xray\",\n",
        "    Path.cwd().parent / \"Data\" / \"chest_xray\",\n",
        "    Path(\"Final_Project\") / \"Data\" / \"chest_xray\",\n",
        "    Path.cwd() / \"Final_Project\" / \"Data\" / \"chest_xray\"\n",
        "]\n",
        "\n",
        "DATASET_DIR = None\n",
        "for c in CANDIDATES:\n",
        "    if (c / \"train\").exists() and (c / \"val\").exists() and (c / \"test\").exists():\n",
        "        DATASET_DIR = c\n",
        "        break\n",
        "\n",
        "if DATASET_DIR is None:\n",
        "    DATASET_DIR = Path(\"Final_Project/Data/chest_xray\")  # default\n",
        "print(\"Using dataset dir:\", DATASET_DIR.resolve())\n",
        "\n",
        "def has_dataset_structure(root: Path) -> bool:\n",
        "    return (root / \"train\").exists() and (root / \"val\").exists() and (root / \"test\").exists()\n",
        "\n",
        "if not has_dataset_structure(DATASET_DIR):\n",
        "    print(\"❗Dataset not found at:\", DATASET_DIR.resolve())\n",
        "    print(\"Please place the Kaggle chest_xray folder at this path, e.g.:\")\n",
        "    print(\"  Final_Project/Data/chest_xray/{train,val,test}/{NORMAL,PNEUMONIA}\")\n"
      ]
    },
    {
      "cell_type": "markdown",
      "metadata": {},
      "source": [
        "## 2) Data pipeline (grayscale→RGB replication, normalization, loaders)\n",
        "Purpose: build transforms and DataLoaders.  \n",
        "- Compute mean/std on a subset of *train* to normalize.  \n",
        "- ViT expects **3-channel** inputs → replicate grayscale to 3 channels.  \n",
        "- Use **WeightedRandomSampler** to handle class imbalance.  \n",
        "- Re-split *train* into `train/val` (you can change the ratio), while keeping *test* untouched.\n"
      ]
    },
    {
      "cell_type": "code",
      "execution_count": 11,
      "metadata": {},
      "outputs": [
        {
          "name": "stdout",
          "output_type": "stream",
          "text": [
            "Norm stats → mean=0.4837, std=0.2365\n",
            "Train class counts: [1070, 3103]\n",
            "Classes: {'NORMAL': 0, 'PNEUMONIA': 1}\n",
            "New split → Train: 4173 | Val: 1043 | Test: 624\n"
          ]
        }
      ],
      "source": [
        "\n",
        "from torchvision import datasets, transforms\n",
        "from torch.utils.data import DataLoader, random_split, WeightedRandomSampler\n",
        "from PIL import Image\n",
        "import random, numpy as np, torch\n",
        "\n",
        "IMG_SIZE = 224\n",
        "BATCH = 32\n",
        "NUM_WORKERS = 2\n",
        "\n",
        "def compute_mean_std(root: Path, split: str = \"train\", max_samples: int = 600):\n",
        "    files = list((root / split).glob(\"**/*.*\"))\n",
        "    random.shuffle(files)\n",
        "    files = files[:max_samples]\n",
        "    pixels = []\n",
        "    for f in files:\n",
        "        try:\n",
        "            im = Image.open(f).convert(\"L\").resize((IMG_SIZE, IMG_SIZE))\n",
        "            arr = np.asarray(im, dtype=np.float32) / 255.0\n",
        "            pixels.append(arr)\n",
        "        except Exception:\n",
        "            pass\n",
        "    if not pixels:\n",
        "        return 0.5, 0.25\n",
        "    arr = np.stack(pixels, axis=0)\n",
        "    return float(arr.mean()), float(arr.std() + 1e-8)\n",
        "\n",
        "if has_dataset_structure(DATASET_DIR):\n",
        "    mean, std = compute_mean_std(DATASET_DIR, \"train\")\n",
        "    print(f\"Norm stats → mean={mean:.4f}, std={std:.4f}\")\n",
        "\n",
        "    # Transforms: replicate grayscale→RGB for ViT\n",
        "    train_tfms = transforms.Compose([\n",
        "        transforms.Grayscale(num_output_channels=3),\n",
        "        transforms.Resize((IMG_SIZE, IMG_SIZE)),\n",
        "        transforms.RandomHorizontalFlip(0.5),\n",
        "        transforms.RandomRotation(10),\n",
        "        transforms.RandomAffine(degrees=0, translate=(0.08, 0.08), scale=(0.9, 1.1)),\n",
        "        transforms.RandomPerspective(distortion_scale=0.12, p=0.25),\n",
        "        transforms.ToTensor(),\n",
        "        transforms.Normalize([mean]*3, [std]*3),\n",
        "        transforms.RandomErasing(p=0.3, scale=(0.02, 0.15), ratio=(0.3, 3.3), value=\"random\"),\n",
        "    ])\n",
        "    val_test_tfms = transforms.Compose([\n",
        "        transforms.Grayscale(num_output_channels=3),\n",
        "        transforms.Resize((IMG_SIZE, IMG_SIZE)),\n",
        "        transforms.ToTensor(),\n",
        "        transforms.Normalize([mean]*3, [std]*3),\n",
        "    ])\n",
        "\n",
        "    # Load full train, then make a validation split\n",
        "    full_train_dataset = datasets.ImageFolder(DATASET_DIR / \"train\", transform=train_tfms)\n",
        "    val_ratio = 0.2\n",
        "    val_size = int(len(full_train_dataset) * val_ratio)\n",
        "    train_size = len(full_train_dataset) - val_size\n",
        "    train_dataset, val_dataset = random_split(full_train_dataset, [train_size, val_size])\n",
        "    val_dataset.dataset.transform = val_test_tfms  # make val deterministic\n",
        "\n",
        "    # Weighted sampling to counter imbalance, 0=NORMAL, 1=PNEUMONIA\n",
        "    indices = train_dataset.indices if hasattr(train_dataset, \"indices\") else list(range(len(train_dataset)))\n",
        "    targets = np.array([full_train_dataset.samples[i][1] for i in indices])\n",
        "    class_counts = np.bincount(targets, minlength=2)\n",
        "    class_weights = 1.0 / np.maximum(class_counts, 1)\n",
        "    sample_weights = class_weights[targets]\n",
        "\n",
        "    sampler = WeightedRandomSampler(\n",
        "        weights=torch.as_tensor(sample_weights, dtype=torch.double),\n",
        "        num_samples=len(sample_weights), replacement=True\n",
        "    )\n",
        "    print(\"Train class counts:\", class_counts.tolist())\n",
        "\n",
        "    # Test set (as provided)\n",
        "    test_dataset = datasets.ImageFolder(DATASET_DIR / \"test\", transform=val_test_tfms)\n",
        "\n",
        "    use_pin = (DEVICE.type == \"cuda\")\n",
        "    train_dl = DataLoader(train_dataset, batch_size=BATCH, sampler=sampler,\n",
        "                          num_workers=NUM_WORKERS, pin_memory=use_pin)\n",
        "    val_dl   = DataLoader(val_dataset,   batch_size=BATCH, shuffle=False,\n",
        "                          num_workers=NUM_WORKERS, pin_memory=use_pin)\n",
        "    test_dl  = DataLoader(test_dataset,  batch_size=BATCH, shuffle=False,\n",
        "                          num_workers=NUM_WORKERS, pin_memory=use_pin)\n",
        "\n",
        "    print(\"Classes:\", full_train_dataset.class_to_idx)\n",
        "    print(f\"New split → Train: {len(train_dataset)} | Val: {len(val_dataset)} | Test: {len(test_dataset)}\")\n",
        "else:\n",
        "    print(\"⚠️ Skipping data pipeline because dataset is missing.\")\n"
      ]
    },
    {
      "cell_type": "markdown",
      "metadata": {},
      "source": [
        "## 3) Metrics, threshold tuning, and plots\n",
        "Purpose: reusable helpers to evaluate the model and pick a decision threshold.  \n",
        "- We compute accuracy, precision, recall, F1, AUROC, confusion matrix.  \n",
        "- We include a **recall-first** tuner: choose the threshold that **maximizes specificity** subject to a minimum *recall* (e.g., ≥ 0.98).  \n",
        "- Plots: confusion matrix and ROC with operating point.\n"
      ]
    },
    {
      "cell_type": "code",
      "execution_count": 12,
      "metadata": {},
      "outputs": [],
      "source": [
        "\n",
        "import os, json, numpy as np, matplotlib.pyplot as plt, torch\n",
        "from sklearn.metrics import (classification_report, confusion_matrix, roc_curve, roc_auc_score,\n",
        "                             precision_recall_fscore_support, accuracy_score)\n",
        "\n",
        "def evaluate_on(dl, model, device=DEVICE, threshold=0.5, save_dir=None, criterion=None):\n",
        "    model.eval()\n",
        "    y_true, y_pred, y_scores = [], [], []\n",
        "    losses = []\n",
        "    with torch.no_grad():\n",
        "        for xb, yb in dl:\n",
        "            xb, yb = xb.to(device), yb.to(device)\n",
        "            logits = model(xb)\n",
        "            if criterion is not None:\n",
        "                loss = criterion(logits, yb)\n",
        "                losses.append(loss.item())\n",
        "            probs = torch.softmax(logits, dim=1)[:, 1]\n",
        "            preds = (probs >= threshold).long()\n",
        "\n",
        "            y_true.extend(yb.cpu().numpy().tolist())\n",
        "            y_pred.extend(preds.cpu().numpy().tolist())\n",
        "            y_scores.extend(probs.cpu().numpy().tolist())\n",
        "\n",
        "    y_true = np.array(y_true); y_pred = np.array(y_pred); y_scores = np.array(y_scores)\n",
        "    acc = accuracy_score(y_true, y_pred)\n",
        "    p, r, f1, _ = precision_recall_fscore_support(y_true, y_pred, average='binary', zero_division=0)\n",
        "    auroc = roc_auc_score(y_true, y_scores)\n",
        "    cm = confusion_matrix(y_true, y_pred)\n",
        "    tn, fp, fn, tp = cm.ravel()\n",
        "    sens = tp / (tp + fn + 1e-9)\n",
        "    spec = tn / (tn + fp + 1e-9)\n",
        "    bal_acc = 0.5 * (sens + spec)\n",
        "\n",
        "    print(f\"Loss={np.mean(losses):.4f}  Acc={acc:.3f}  Prec={p:.3f}  Rec={r:.3f}  F1={f1:.3f}  AUROC={auroc:.3f}\")\n",
        "    print(f\" Sensitivity (Recall+): {sens:.3f}\")\n",
        "    print(f\" Specificity (TNR   ): {spec:.3f}\")\n",
        "    print(f\" Balanced Accuracy  : {bal_acc:.3f}\")\n",
        "    print(f\" Threshold used     : {threshold:.2f}\")\n",
        "    print(\"\\nClassification report:\\n\", classification_report(\n",
        "        y_true, y_pred, digits=3, target_names=[\"NORMAL\", \"PNEUMONIA\"]))\n",
        "\n",
        "    if save_dir:\n",
        "        os.makedirs(save_dir, exist_ok=True)\n",
        "\n",
        "    # Confusion Matrix\n",
        "    plt.figure()\n",
        "    plt.imshow(cm, interpolation='nearest', cmap=plt.cm.Blues)\n",
        "    plt.title(\"Confusion Matrix\"); plt.colorbar()\n",
        "    tick_marks = np.arange(2)\n",
        "    plt.xticks(tick_marks, [\"NORMAL\", \"PNEUMONIA\"])\n",
        "    plt.yticks(tick_marks, [\"NORMAL\", \"PNEUMONIA\"])\n",
        "    for i in range(cm.shape[0]):\n",
        "        for j in range(cm.shape[1]):\n",
        "            plt.text(j, i, cm[i, j], ha=\"center\", va=\"center\")\n",
        "    plt.xlabel(\"Predicted\"); plt.ylabel(\"True\")\n",
        "    if save_dir: plt.savefig(os.path.join(save_dir, \"confusion_matrix.png\"))\n",
        "    plt.show()\n",
        "\n",
        "    # ROC with operating point\n",
        "    fpr, tpr, _ = roc_curve(y_true, y_scores)\n",
        "    plt.figure()\n",
        "    plt.plot(fpr, tpr, lw=2, label=f\"AUC = {auroc:.3f}\")\n",
        "    plt.plot([0, 1], [0, 1], lw=2, linestyle='--')\n",
        "    _yp = (y_scores >= threshold).astype(int)\n",
        "    _tn, _fp, _fn, _tp = confusion_matrix(y_true, _yp).ravel()\n",
        "    fpr_point = _fp / (_fp + _tn + 1e-9)\n",
        "    tpr_point = _tp / (_tp + _fn + 1e-9)\n",
        "    plt.scatter([fpr_point], [tpr_point], s=60, marker='o')\n",
        "    plt.annotate(f\"TH={threshold:.2f}\", (fpr_point, tpr_point), textcoords=\"offset points\", xytext=(8, -12))\n",
        "    plt.title(\"ROC Curve (Test)\")\n",
        "    plt.xlabel(\"False Positive Rate\"); plt.ylabel(\"True Positive Rate\")\n",
        "    plt.legend(loc=\"lower right\"); plt.grid(True)\n",
        "    if save_dir: plt.savefig(os.path.join(save_dir, \"roc_curve.png\"))\n",
        "    plt.show()\n",
        "\n",
        "    return {\n",
        "        \"loss\": float(np.mean(losses)), \"acc\": float(acc), \"prec\": float(p), \"rec\": float(r),\n",
        "        \"f1\": float(f1), \"auroc\": float(auroc), \"cm\": cm, \"specificity\": float(spec), \"sensitivity\": float(sens)\n",
        "    }\n",
        "\n",
        "def tune_threshold_min_recall(val_dl, model, device=DEVICE, min_rec=0.98):\n",
        "    model.eval()\n",
        "    y_true, y_scores = [], []\n",
        "    with torch.no_grad():\n",
        "        for xb, yb in val_dl:\n",
        "            xb, yb = xb.to(device), yb.to(device)\n",
        "            probs = torch.softmax(model(xb), dim=1)[:, 1]\n",
        "            y_true.extend(yb.cpu().numpy().tolist())\n",
        "            y_scores.extend(probs.cpu().numpy().tolist())\n",
        "    y_true = np.array(y_true); y_scores = np.array(y_scores)\n",
        "\n",
        "    def stats(th):\n",
        "        y_pred = (y_scores >= th).astype(int)\n",
        "        p, r, f1, _ = precision_recall_fscore_support(y_true, y_pred, average='binary', zero_division=0)\n",
        "        tn, fp, fn, tp = confusion_matrix(y_true, y_pred).ravel()\n",
        "        spec = tn / (tn + fp + 1e-9)\n",
        "        return p, r, f1, spec\n",
        "\n",
        "    cands = np.linspace(0.20, 0.90, 71)\n",
        "    valid = [(th,)+stats(th) for th in cands if stats(th)[1] >= min_rec]\n",
        "    if not valid:\n",
        "        print(\"No threshold meets the min recall constraint; falling back to argmax-F1.\")\n",
        "        all_stats = [(th,)+stats(th) for th in cands]\n",
        "        best = max(all_stats, key=lambda x: x[3])  # F1 at idx 3\n",
        "    else:\n",
        "        # max specificity with recall >= min_rec\n",
        "        best = max(valid, key=lambda x: x[4])  # spec at idx 4\n",
        "\n",
        "    th, prec, rec, f1, spec = best\n",
        "    print(f\"Chosen THRESH (val): {th:.2f} | precision={prec:.3f} recall={rec:.3f} f1={f1:.3f} specificity={spec:.3f} (MIN_REC={min_rec})\")\n",
        "    return float(th)\n"
      ]
    },
    {
      "cell_type": "markdown",
      "metadata": {},
      "source": [
        "## 4) Build the ViT model\n",
        "Purpose: create a ViT model one of three ways (in this priority order):\n",
        "1. **timm** pretrained (AugReg or ImageNet-1k) — recommended if available.  \n",
        "2. **torchvision** pretrained (ImageNet-1k).  \n",
        "3. **Google JAX `.npz`** checkpoint → **converted** to PyTorch via `timm`'s filter function.\n",
        "\n",
        "> If you're offline or a weight download fails, we fall back to random init.\n"
      ]
    },
    {
      "cell_type": "code",
      "execution_count": 13,
      "metadata": {},
      "outputs": [
        {
          "name": "stdout",
          "output_type": "stream",
          "text": [
            "timm pretrained attempt failed: (MaxRetryError(\"HTTPSConnectionPool(host='huggingface.co', port=443): Max retries exceeded with url: /timm/vit_base_patch16_224.augreg2_in21k_ft_in1k/resolve/main/model.safetensors (Caused by SSLError(SSLCertVerificationError(1, '[SSL: CERTIFICATE_VERIFY_FAILED] certificate verify failed: unable to get local issuer certificate (_ssl.c:1028)')))\"), '(Request ID: 14a695b0-6399-4d96-b1f4-7e9a19a341f8)')\n",
            "Model ready via: timm_random\n",
            "Params (M): 85.800194\n"
          ]
        }
      ],
      "source": [
        "\n",
        "import torch.nn as nn, numpy as np\n",
        "\n",
        "def try_build_vit_timm(num_classes=2):\n",
        "    if timm is None:\n",
        "        return None, \"timm_not_available\"\n",
        "    try:\n",
        "        model = timm.create_model(\"vit_base_patch16_224\", pretrained=True, num_classes=num_classes)\n",
        "        return model, \"timm_pretrained\"\n",
        "    except Exception as e:\n",
        "        print(\"timm pretrained attempt failed:\", e)\n",
        "        try:\n",
        "            model = timm.create_model(\"vit_base_patch16_224\", pretrained=False, num_classes=num_classes)\n",
        "            return model, \"timm_random\"\n",
        "        except Exception as e2:\n",
        "            print(\"timm random attempt failed:\", e2)\n",
        "            return None, \"timm_failed\"\n",
        "\n",
        "def try_build_vit_torchvision(num_classes=2):\n",
        "    try:\n",
        "        from torchvision.models import vit_b_16, ViT_B_16_Weights\n",
        "        m = vit_b_16(weights=ViT_B_16_Weights.IMAGENET1K_V1)\n",
        "        m.heads.head = nn.Linear(m.heads.head.in_features, num_classes)\n",
        "        return m, \"torchvision_pretrained\"\n",
        "    except Exception as e:\n",
        "        print(\"torchvision pretrained attempt failed:\", e)\n",
        "        try:\n",
        "            from torchvision.models import vit_b_16\n",
        "            m = vit_b_16(weights=None)\n",
        "            m.heads.head = nn.Linear(m.heads.head.in_features, num_classes)\n",
        "            return m, \"torchvision_random\"\n",
        "        except Exception as e2:\n",
        "            print(\"torchvision random attempt failed:\", e2)\n",
        "            return None, \"torchvision_failed\"\n",
        "\n",
        "def maybe_download_jax_npz(npz_name=\"ViT-B_16.npz\", target_dir=Path(\"weights/vit_npz\")):\n",
        "    url = f\"https://storage.googleapis.com/vit_models/imagenet21k/{npz_name}\"\n",
        "    target_dir.mkdir(parents=True, exist_ok=True)\n",
        "    out = target_dir / npz_name\n",
        "    if out.exists():\n",
        "        print(\"Found npz:\", out)\n",
        "        return out\n",
        "    try:\n",
        "        import urllib.request\n",
        "        print(\"Downloading:\", url)\n",
        "        urllib.request.urlretrieve(url, out)\n",
        "        print(\"Saved:\", out)\n",
        "        return out\n",
        "    except Exception as e:\n",
        "        print(\"Couldn't download npz:\", e)\n",
        "        return None\n",
        "\n",
        "def try_build_vit_from_jax_npz(num_classes=2, npz_path=None):\n",
        "    if timm is None:\n",
        "        print(\"timm not available → cannot convert .npz\")\n",
        "        return None, \"jax_npz_failed\"\n",
        "    if npz_path is None or not Path(npz_path).exists():\n",
        "        npz_path = maybe_download_jax_npz()\n",
        "        if npz_path is None:\n",
        "            return None, \"jax_npz_download_failed\"\n",
        "    try:\n",
        "        from timm.models.vision_transformer import checkpoint_filter_fn\n",
        "        model = timm.create_model(\"vit_base_patch16_224\", pretrained=False, num_classes=num_classes)\n",
        "        dd = np.load(npz_path)\n",
        "        # Convert numpy to tensors and map keys via timm's filter\n",
        "        sd_raw = {k: torch.from_numpy(v) for k, v in dd.items()}\n",
        "        sd = checkpoint_filter_fn(sd_raw, model)\n",
        "        missing, unexpected = model.load_state_dict(sd, strict=False)\n",
        "        print(\"Loaded JAX npz → PyTorch. Missing keys:\", len(missing), \"| Unexpected:\", len(unexpected))\n",
        "        return model, \"jax_npz_converted\"\n",
        "    except Exception as e:\n",
        "        print(\"JAX npz conversion failed:\", e)\n",
        "        return None, \"jax_npz_failed\"\n",
        "\n",
        "# Try to build in priority order\n",
        "model, how = try_build_vit_timm(num_classes=2)\n",
        "if model is None:\n",
        "    model, how = try_build_vit_torchvision(num_classes=2)\n",
        "if model is None:\n",
        "    model, how = try_build_vit_from_jax_npz(num_classes=2)\n",
        "\n",
        "if model is None:\n",
        "    raise RuntimeError(\"Could not build a ViT model by any method.\")\n",
        "model = model.to(DEVICE)\n",
        "print(\"Model ready via:\", how)\n",
        "print(\"Params (M):\", sum(p.numel() for p in model.parameters())/1e6)\n"
      ]
    },
    {
      "cell_type": "markdown",
      "metadata": {},
      "source": [
        "## 5) Training loop (head-only warmup → fine-tune all)\n",
        "Purpose: train ViT in two phases (like your ResNet18 baseline did):  \n",
        "1. **Head-only warmup**: freeze backbone and train the classifier head briefly.  \n",
        "2. **Fine-tune**: unfreeze everything, lower LR, train with early stopping.\n",
        "\n",
        "We use **class-weighted cross-entropy** to mitigate imbalance, and a `ReduceLROnPlateau` scheduler.\n"
      ]
    },
    {
      "cell_type": "code",
      "execution_count": 14,
      "metadata": {},
      "outputs": [
        {
          "name": "stdout",
          "output_type": "stream",
          "text": [
            "Class weights in loss: [0.7435897588729858, 0.25641027092933655]\n",
            "[Head] 1/2  train_loss=0.4595  val_loss=0.5992  val_f1=0.601  auc=0.8409221268378486\n",
            "[Head] 2/2  train_loss=0.3927  val_loss=0.5092  val_f1=0.718  auc=0.879113052788559\n",
            "[FT]   1/8  train_loss=0.7200  val_loss=1.4451  val_f1=0.346  auc=0.9086429076725999\n",
            "[FT]   2/8  train_loss=0.2999  val_loss=0.3294  val_f1=0.925  auc=0.9494579660822515\n",
            "[FT]   3/8  train_loss=0.2398  val_loss=0.3459  val_f1=0.843  auc=0.9708716517216986\n",
            "[FT]   4/8  train_loss=0.2005  val_loss=0.2380  val_f1=0.949  auc=0.9734862244995507\n",
            "[FT]   5/8  train_loss=0.1717  val_loss=0.2595  val_f1=0.891  auc=0.9781035504655564\n",
            "[FT]   6/8  train_loss=0.1100  val_loss=0.2168  val_f1=0.934  auc=0.9817935873659254\n",
            "[FT]   7/8  train_loss=0.1119  val_loss=0.2590  val_f1=0.888  auc=0.98597594784238\n",
            "[FT]   8/8  train_loss=0.1035  val_loss=0.1993  val_f1=0.943  auc=0.9839731946542264\n",
            "Best checkpoint loaded.\n"
          ]
        }
      ],
      "source": [
        "\n",
        "import time, torch.optim as optim, torch.nn.functional as F\n",
        "from sklearn.metrics import accuracy_score, precision_recall_fscore_support, roc_auc_score\n",
        "\n",
        "# Class weights from the actual TRAIN split\n",
        "if has_dataset_structure(DATASET_DIR):\n",
        "    indices = train_dataset.indices if hasattr(train_dataset, \"indices\") else list(range(len(train_dataset)))\n",
        "    targets = np.array([full_train_dataset.samples[i][1] for i in indices])\n",
        "    class_counts = np.bincount(targets, minlength=2)\n",
        "else:\n",
        "    class_counts = np.array([1,1])\n",
        "\n",
        "normal_count, pneu_count = int(class_counts[0]), int(class_counts[1])\n",
        "total = max(1, normal_count + pneu_count)\n",
        "weights = torch.tensor([pneu_count/total, normal_count/total], device=DEVICE, dtype=torch.float32)\n",
        "criterion = nn.CrossEntropyLoss(weight=weights)\n",
        "print(\"Class weights in loss:\", [float(w) for w in weights])\n",
        "\n",
        "def run_epoch(dl, model, optimizer=None, device=DEVICE):\n",
        "    is_train = optimizer is not None\n",
        "    model.train(is_train)\n",
        "    losses, y_true, y_pred, y_scores = [], [], [], []\n",
        "    for xb, yb in dl:\n",
        "        xb, yb = xb.to(device), yb.to(device)\n",
        "        logits = model(xb)\n",
        "        loss = criterion(logits, yb)\n",
        "        if is_train:\n",
        "            optimizer.zero_grad(set_to_none=True)\n",
        "            loss.backward()\n",
        "            nn.utils.clip_grad_norm_(model.parameters(), max_norm=5.0)\n",
        "            optimizer.step()\n",
        "        losses.append(loss.item())\n",
        "\n",
        "        probs = torch.softmax(logits, dim=1)[:, 1]\n",
        "        preds = (probs >= 0.5).long()\n",
        "        y_scores.extend(probs.detach().cpu().numpy().tolist())\n",
        "        y_pred.extend(preds.detach().cpu().numpy().tolist())\n",
        "        y_true.extend(yb.detach().cpu().numpy().tolist())\n",
        "\n",
        "    acc = accuracy_score(y_true, y_pred)\n",
        "    p, r, f1, _ = precision_recall_fscore_support(y_true, y_pred, average='binary', zero_division=0)\n",
        "    try:\n",
        "        auc = roc_auc_score(y_true, y_scores)\n",
        "    except Exception:\n",
        "        auc = None\n",
        "    return float(np.mean(losses)), acc, p, r, f1, auc\n",
        "\n",
        "def train_head_then_finetune(model, train_dl, val_dl, head_epochs=2, ft_epochs=8, lr_head=1e-3, lr_ft=1e-4, weight_decay=1e-4):\n",
        "    # 1) Head-only\n",
        "    for p in model.parameters(): p.requires_grad = False\n",
        "    head_params = []\n",
        "    if hasattr(model, \"heads\") and hasattr(model.heads, \"head\"):\n",
        "        head_params = list(model.heads.head.parameters())\n",
        "    elif hasattr(model, \"head\"):\n",
        "        head_params = list(model.head.parameters())\n",
        "    else:\n",
        "        head_params = [p for p in model.parameters() if p.requires_grad]\n",
        "\n",
        "    for p in head_params: p.requires_grad = True\n",
        "    opt = optim.AdamW(head_params, lr=lr_head, weight_decay=weight_decay)\n",
        "\n",
        "    best_val = float('inf')\n",
        "    for e in range(head_epochs):\n",
        "        tr = run_epoch(train_dl, model, optimizer=opt)\n",
        "        va = run_epoch(val_dl,   model, optimizer=None)\n",
        "        print(f\"[Head] {e+1}/{head_epochs}  train_loss={tr[0]:.4f}  val_loss={va[0]:.4f}  val_f1={va[4]:.3f}  auc={va[5]}\")\n",
        "        if va[0] < best_val:\n",
        "            best_val = va[0]; torch.save(model.state_dict(), \"vit_head.pt\")\n",
        "\n",
        "    # 2) Fine-tune all\n",
        "    model.load_state_dict(torch.load(\"vit_head.pt\", map_location=DEVICE))\n",
        "    for p in model.parameters(): p.requires_grad = True\n",
        "    opt = optim.AdamW(model.parameters(), lr=lr_ft, weight_decay=weight_decay)\n",
        "    sched = optim.lr_scheduler.ReduceLROnPlateau(opt, mode='min', factor=0.5, patience=2)\n",
        "\n",
        "    for e in range(ft_epochs):\n",
        "        tr = run_epoch(train_dl, model, optimizer=opt)\n",
        "        va = run_epoch(val_dl,   model, optimizer=None)\n",
        "        print(f\"[FT]   {e+1}/{ft_epochs}  train_loss={tr[0]:.4f}  val_loss={va[0]:.4f}  val_f1={va[4]:.3f}  auc={va[5]}\")\n",
        "        sched.step(va[0])\n",
        "        if va[0] < best_val:\n",
        "            best_val = va[0]; torch.save(model.state_dict(), \"vit_best.pt\")\n",
        "    return model\n",
        "\n",
        "if has_dataset_structure(DATASET_DIR):\n",
        "    model = train_head_then_finetune(model, train_dl, val_dl, head_epochs=2, ft_epochs=8, lr_head=1e-3, lr_ft=1e-4, weight_decay=1e-4)\n",
        "    model.load_state_dict(torch.load(\"vit_best.pt\", map_location=DEVICE))\n",
        "    print(\"Best checkpoint loaded.\")\n",
        "else:\n",
        "    print(\"⚠️ Skipping training because dataset is missing.\")\n"
      ]
    },
    {
      "cell_type": "markdown",
      "metadata": {},
      "source": [
        "## 6) Pick an operating threshold with a **minimum recall** constraint\n",
        "Purpose: be **aggressive in catching sick patients** (high sensitivity/recall) while improving specificity as much as possible.\n",
        "- We search thresholds and choose the one with **max specificity** subject to `recall ≥ MIN_REC`.\n"
      ]
    },
    {
      "cell_type": "code",
      "execution_count": 15,
      "metadata": {},
      "outputs": [
        {
          "name": "stdout",
          "output_type": "stream",
          "text": [
            "No threshold meets the min recall constraint; falling back to argmax-F1.\n",
            "Chosen THRESH (val): 0.20 | precision=0.984 recall=0.934 f1=0.958 specificity=0.956 (MIN_REC=0.975)\n",
            "Final THRESH set to 0.20\n"
          ]
        }
      ],
      "source": [
        "\n",
        "THRESH = 0.5\n",
        "if has_dataset_structure(DATASET_DIR):\n",
        "    MIN_REC = 0.975  # adjust as policy requires\n",
        "    THRESH = tune_threshold_min_recall(val_dl, model, device=DEVICE, min_rec=MIN_REC)\n",
        "    print(f\"Final THRESH set to {THRESH:.2f}\")\n",
        "else:\n",
        "    print(\"Dataset missing → keep default THRESH=0.5\")\n"
      ]
    },
    {
      "cell_type": "markdown",
      "metadata": {},
      "source": [
        "## 7) Final evaluation on the untouched test set\n",
        "Purpose: report your final metrics **only on the test set** (confusion matrix, ROC, JSON dump).  \n",
        "We save figures and metrics under `results_vit/`.\n"
      ]
    },
    {
      "cell_type": "code",
      "execution_count": 16,
      "metadata": {},
      "outputs": [
        {
          "name": "stdout",
          "output_type": "stream",
          "text": [
            "Loss=0.6545  Acc=0.821  Prec=0.800  Rec=0.951  F1=0.869  AUROC=0.918\n",
            " Sensitivity (Recall+): 0.951\n",
            " Specificity (TNR   ): 0.603\n",
            " Balanced Accuracy  : 0.777\n",
            " Threshold used     : 0.20\n",
            "\n",
            "Classification report:\n",
            "               precision    recall  f1-score   support\n",
            "\n",
            "      NORMAL      0.881     0.603     0.716       234\n",
            "   PNEUMONIA      0.800     0.951     0.869       390\n",
            "\n",
            "    accuracy                          0.821       624\n",
            "   macro avg      0.840     0.777     0.792       624\n",
            "weighted avg      0.830     0.821     0.811       624\n",
            "\n"
          ]
        },
        {
          "data": {
            "image/png": "[encoded data removed]",
            "text/plain": [
              "<Figure size 640x480 with 2 Axes>"
            ]
          },
          "metadata": {},
          "output_type": "display_data"
        },
        {
          "data": {
            "image/png": "[encoded data removed]",
            "text/plain": [
              "<Figure size 640x480 with 1 Axes>"
            ]
          },
          "metadata": {},
          "output_type": "display_data"
        }
      ],
      "source": [
        "\n",
        "import os\n",
        "SAVE_DIR = \"results_vit\"\n",
        "if has_dataset_structure(DATASET_DIR):\n",
        "    os.makedirs(SAVE_DIR, exist_ok=True)\n",
        "    _ = evaluate_on(test_dl, model, device=DEVICE, threshold=THRESH, save_dir=SAVE_DIR, criterion=criterion)\n",
        "else:\n",
        "    print(\"Dataset missing → skipping test evaluation.\")\n"
      ]
    },
    {
      "cell_type": "markdown",
      "metadata": {},
      "source": [
        "## 8) Model complexity snapshot\n",
        "Purpose: quantify model size and (optionally) estimate throughput.\n"
      ]
    },
    {
      "cell_type": "code",
      "execution_count": 17,
      "metadata": {},
      "outputs": [
        {
          "name": "stdout",
          "output_type": "stream",
          "text": [
            "Parameters total: 85,800,194  |  trainable now: 85,800,194\n",
            "Inference over 10 mini-batches took 19.14s  (~16.7 img/s).\n"
          ]
        }
      ],
      "source": [
        "\n",
        "param_count = sum(p.numel() for p in model.parameters())\n",
        "trainable = sum(p.numel() for p in model.parameters() if p.requires_grad)\n",
        "print(f\"Parameters total: {param_count:,}  |  trainable now: {trainable:,}\")\n",
        "\n",
        "# Optional quick speed probe (few batches)\n",
        "if has_dataset_structure(DATASET_DIR):\n",
        "    import time\n",
        "    model.eval()\n",
        "    n_batches = 10\n",
        "    t0 = time.time()\n",
        "    with torch.no_grad():\n",
        "        for i, (xb, _) in enumerate(train_dl):\n",
        "            if i >= n_batches: break\n",
        "            xb = xb.to(DEVICE)\n",
        "            _ = model(xb)\n",
        "    dt = time.time() - t0\n",
        "    print(f\"Inference over {n_batches} mini-batches took {dt:.2f}s  (~{(n_batches*BATCH)/max(dt,1e-9):.1f} img/s).\")\n"
      ]
    },
    {
      "cell_type": "markdown",
      "metadata": {},
      "source": [
        "## 9) (Optional) Download official Google JAX `.npz` checkpoint\n",
        "Purpose: stash the **exact** ViT-B/16 ImageNet-21k checkpoint locally.  \n",
        "You can later try the conversion cell in Section 4 to load it into PyTorch (`timm` required).\n"
      ]
    },
    {
      "cell_type": "code",
      "execution_count": 18,
      "metadata": {},
      "outputs": [
        {
          "name": "stdout",
          "output_type": "stream",
          "text": [
            "Downloading: https://storage.googleapis.com/vit_models/imagenet21k/ViT-B_16.npz\n",
            "Saved: weights/vit_npz/ViT-B_16.npz\n",
            "npz path: weights/vit_npz/ViT-B_16.npz\n"
          ]
        }
      ],
      "source": [
        "\n",
        "from pathlib import Path, PurePosixPath\n",
        "npz_path = maybe_download_jax_npz(\"ViT-B_16.npz\")\n",
        "print(\"npz path:\", npz_path)\n"
      ]
    }
  ],
  "metadata": {
    "kernelspec": {
      "display_name": "myfinalproject",
      "language": "python",
      "name": "python3"
    },
    "language_info": {
      "codemirror_mode": {
        "name": "ipython",
        "version": 3
      },
      "file_extension": ".py",
      "mimetype": "text/x-python",
      "name": "python",
      "nbconvert_exporter": "python",
      "pygments_lexer": "ipython3",
      "version": "3.13.5"
    }
  },
  "nbformat": 4,
  "nbformat_minor": 5
}
